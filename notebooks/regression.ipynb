{
 "cells": [
  {
   "cell_type": "markdown",
   "metadata": {},
   "source": [
    "# Fast fair regression demo\n",
    "\n",
    "Copyright 2023 Gradient Institute\n",
    "\n",
    "Licensed under the Apache License, Version 2.0 (the \"License\");\n",
    "you may not use this file except in compliance with the License.\n",
    "You may obtain a copy of the License at\n",
    "\n",
    "    http://www.apache.org/licenses/LICENSE-2.0\n",
    "\n",
    "Unless required by applicable law or agreed to in writing, software\n",
    "distributed under the License is distributed on an \"AS IS\" BASIS,\n",
    "WITHOUT WARRANTIES OR CONDITIONS OF ANY KIND, either express or implied.\n",
    "See the License for the specific language governing permissions and\n",
    "limitations under the License"
   ]
  },
  {
   "cell_type": "markdown",
   "metadata": {},
   "source": [
    "## Settings"
   ]
  },
  {
   "cell_type": "code",
   "execution_count": 20,
   "metadata": {
    "scrolled": true
   },
   "outputs": [
    {
     "name": "stdout",
     "output_type": "stream",
     "text": [
      "The autoreload extension is already loaded. To reload it, use:\n",
      "  %reload_ext autoreload\n"
     ]
    }
   ],
   "source": [
    "import numpy as np\n",
    "import pandas as pd\n",
    "import matplotlib.pyplot as plt\n",
    "%load_ext autoreload\n",
    "%autoreload 2\n",
    "\n",
    "\n",
    "RS = 42\n",
    "\n",
    "# Classifier RBF Settings\n",
    "COMPONENTS=500\n",
    "GAMMA=None"
   ]
  },
  {
   "cell_type": "markdown",
   "metadata": {},
   "source": [
    "## Dataset"
   ]
  },
  {
   "cell_type": "code",
   "execution_count": 21,
   "metadata": {
    "scrolled": false
   },
   "outputs": [
    {
     "data": {
      "text/plain": [
       "(1994, 99)"
      ]
     },
     "execution_count": 21,
     "metadata": {},
     "output_type": "execute_result"
    }
   ],
   "source": [
    "from fastfair.datasets import Toy, Communities\n",
    "\n",
    "#data = Toy(RS)\n",
    "data = Communities(RS)\n",
    "X, y, a = data.X, data.y, data.a\n",
    "\n",
    "X.shape"
   ]
  },
  {
   "cell_type": "markdown",
   "metadata": {},
   "source": [
    "## Measures"
   ]
  },
  {
   "cell_type": "code",
   "execution_count": 22,
   "metadata": {
    "scrolled": true
   },
   "outputs": [],
   "source": [
    "# Classifier\n",
    "from sklearn.linear_model import LogisticRegression\n",
    "from sklearn.kernel_approximation import Nystroem\n",
    "from sklearn.model_selection import cross_val_predict, StratifiedKFold\n",
    "from sklearn.metrics import balanced_accuracy_score, log_loss\n",
    "from sklearn.pipeline import make_pipeline\n",
    "from fastfair import measures\n",
    "\n",
    "# Consistent Fold splitting\n",
    "cv = StratifiedKFold(n_splits=5, shuffle=True, random_state=RS)\n",
    "splits = list(cv.split(X=X, y=a))\n",
    "\n",
    "\n",
    "# Validate classifier, get held-out predictions, refit on all data\n",
    "def class_pred(X, Y, n_components=None, gamma=None, C=1., name=\"\"):\n",
    "    # Instantiate classifier\n",
    "    if n_components is None:\n",
    "        clf = LogisticRegression(solver=\"liblinear\", max_iter=1000)\n",
    "    else:\n",
    "        if gamma is None:\n",
    "            gamma = 1. / (X.shape[1] * X.var()) \n",
    "        clf = make_pipeline(\n",
    "            Nystroem(n_components=n_components, gamma=gamma, random_state=RS),\n",
    "            LogisticRegression(solver=\"liblinear\", max_iter=1000)\n",
    "        )\n",
    "\n",
    "    # Cross val predictions\n",
    "    p = cross_val_predict(clf, X, Y, method=\"predict_proba\", cv=splits)\n",
    "    \n",
    "    # Scores\n",
    "    ll = log_loss(Y, p)\n",
    "    acc = balanced_accuracy_score(Y, p[:, 1] > 0.5)\n",
    "    print(f\"\\t\\t{name} log-loss={ll:.4f}, b. accuracy={acc:.4f}\")\n",
    "    return p\n",
    "\n",
    "\n",
    "def make_classifiers(y, a, s, n_components=None, gamma=None):\n",
    "    pa_1 = np.mean(a)\n",
    "    p_a = np.repeat(np.array([[1 - pa_1, pa_1]]), len(a), axis=0)\n",
    "    sy = np.vstack((y, s)).T\n",
    "    p_y = class_pred(y[:, np.newaxis], a, n_components, gamma, name=\"P(A|Y)\")\n",
    "    p_s = class_pred(s[:, np.newaxis], a, n_components, gamma, name=\"P(A|S)\")\n",
    "    p_sy = class_pred(sy, a, n_components, gamma, name=\"P(A|S, Y)\")\n",
    "    return p_a, p_y, p_s, p_sy\n",
    "\n",
    "\n",
    "def compute_mi_measures(p_a, p_y, p_s, p_sy, a, normalise=True):\n",
    "    ind = measures.cmi(p_s, p_a, a, normalise)\n",
    "    sep = measures.cmi(p_sy, p_y, a, normalise)\n",
    "    suf = measures.cmi(p_sy, p_s, a, normalise)\n",
    "    return ind, sep, suf"
   ]
  },
  {
   "cell_type": "markdown",
   "metadata": {},
   "source": [
    "## See how well $Y$ predicts $A$\n",
    "\n",
    "For the separation and sufficiency measures.\n",
    "\n",
    "There may not be much difference between separation and independence if $Y$ is not predictive of $A$\n",
    "\n",
    "We should also test how much more predictive of $A$ $X$ is with $Y$."
   ]
  },
  {
   "cell_type": "code",
   "execution_count": 23,
   "metadata": {
    "scrolled": false
   },
   "outputs": [
    {
     "name": "stdout",
     "output_type": "stream",
     "text": [
      "\t\tP(A|Y) log-loss=0.2537, b. accuracy=0.6351\n",
      "\t\tP(A|X) log-loss=0.0982, b. accuracy=0.8668\n",
      "\t\tP(A|Y, X) log-loss=0.0985, b. accuracy=0.8686\n"
     ]
    },
    {
     "data": {
      "image/png": "[encoded data removed]",
      "text/plain": [
       "<Figure size 1000x1000 with 1 Axes>"
      ]
     },
     "metadata": {},
     "output_type": "display_data"
    }
   ],
   "source": [
    "class_pred(y[:, np.newaxis], a, COMPONENTS, GAMMA, name=\"P(A|Y)\");\n",
    "class_pred(X, a, COMPONENTS, GAMMA, name=\"P(A|X)\");\n",
    "class_pred(np.hstack((X, y[:, np.newaxis])), a, COMPONENTS, GAMMA, name=\"P(A|Y, X)\");\n",
    "\n",
    "plt.figure(figsize=(10, 10))\n",
    "bins = np.linspace(y.min(), y.max(), 30)\n",
    "plt.hist(y[a==0], bins=bins, label=\"a==0\", alpha=0.5)\n",
    "plt.hist(y[a==1], bins=bins, label=\"a==1\", alpha=0.5)\n",
    "plt.grid()\n",
    "plt.xlabel(\"y\")\n",
    "plt.legend()\n",
    "plt.show()"
   ]
  },
  {
   "cell_type": "markdown",
   "metadata": {},
   "source": [
    "## Test Regressor\n",
    "Just to benchmark our implementation..."
   ]
  },
  {
   "cell_type": "code",
   "execution_count": null,
   "metadata": {
    "scrolled": false
   },
   "outputs": [],
   "source": [
    "from sklearn.linear_model import Ridge\n",
    "from sklearn.ensemble import RandomForestRegressor\n",
    "from sklearn.metrics import r2_score, mean_squared_error\n",
    "\n",
    "#base = RandomForestRegressor()\n",
    "base = Ridge(alpha=1.)\n",
    "#base = make_pipeline(\n",
    "    #RBFSampler(n_components=10000, gamma=.1),\n",
    "#    Ridge(alpha=1.)\n",
    "#)\n",
    "\n",
    "s = cross_val_predict(base, X, y, cv=splits)\n",
    "r2_base = r2_score(y, s)\n",
    "rmse_base = np.sqrt(mean_squared_error(y, s))\n",
    "print(f\"base regressor: r2={r2_base:.3f}, rmse={rmse_base:.3f}\")\n",
    "\n",
    "plt.figure(figsize=(10, 10))\n",
    "bins = np.linspace(y.min(), y.max(), 30)\n",
    "plt.plot(y[a==0], s[a==0], '.', label=\"a==0\")\n",
    "plt.plot(y[a==1], s[a==1], '.', label=\"a==1\")\n",
    "plt.grid()\n",
    "plt.xlabel(\"y\")\n",
    "plt.ylabel(\"s\")\n",
    "plt.legend()\n",
    "plt.show()"
   ]
  },
  {
   "cell_type": "markdown",
   "metadata": {},
   "source": [
    "## Test loop"
   ]
  },
  {
   "cell_type": "code",
   "execution_count": null,
   "metadata": {
    "scrolled": false
   },
   "outputs": [],
   "source": [
    "from fastfair.models import LSPCIndependence, LSPCSeparation, LSPCSufficiency\n",
    "\n",
    "# model dicts\n",
    "models = {\n",
    "    \"indep\": LSPCIndependence,\n",
    "    \"separ\": LSPCSeparation,\n",
    "    \"suffi\": LSPCSufficiency\n",
    "}\n",
    "\n",
    "# fairness regulariser settings\n",
    "lambda_w = 0.00\n",
    "lambda_f = np.linspace(0, 2.0, 5)\n",
    "results = {k: [] for k in models.keys()}\n",
    "\n",
    "# Cross val loops\n",
    "for lf in lambda_f:\n",
    "    print(f\"Regulariser: {lf}\")\n",
    "    for name, model in models.items():\n",
    "        mod = model(lambda_w=lambda_w, lambda_f=lf, random_state=RS)\n",
    "        s = cross_val_predict(mod, X, y, fit_params={\"a\": a}, cv=splits)\n",
    "        \n",
    "        # Performance measures\n",
    "        res = {}\n",
    "        res[\"r2\"] = r2_score(y, s)\n",
    "        res[\"rmse\"] = np.sqrt(mean_squared_error(y, s))\n",
    "        \n",
    "        # Fairness measures\n",
    "        p_a, p_y, p_s, p_sy = make_classifiers(y, a, s, n_components=COMPONENTS, gamma=GAMMA)\n",
    "        res[\"ind\"], res[\"sep\"], res[\"suf\"] = compute_mi_measures(p_a, p_y, p_s, p_sy, a)\n",
    "        \n",
    "        # Print results\n",
    "        resstr = \" \".join([\"{}={:.3f}\".format(k, v) for k, v in res.items()])\n",
    "        print(f\"\\t{name}: {resstr}\")\n",
    "        \n",
    "        results[name].append(res)"
   ]
  },
  {
   "cell_type": "markdown",
   "metadata": {},
   "source": [
    "## Plot results"
   ]
  },
  {
   "cell_type": "code",
   "execution_count": null,
   "metadata": {
    "scrolled": false
   },
   "outputs": [],
   "source": [
    "plots = [\"r2\", \"ind\", \"sep\", \"suf\"]\n",
    "fig, axes = plt.subplots(nrows=2, ncols=2, figsize=(10, 10))\n",
    "\n",
    "for res, ax in zip(plots, np.ravel(axes)):\n",
    "    ax.set_title(res)\n",
    "    ax.set_xlabel(\"$\\lambda_f$\")\n",
    "    ax.set_ylabel(res)\n",
    "    \n",
    "    for name, resarr in results.items():\n",
    "        # unpack\n",
    "        r_arr = [r[res] for r in resarr]\n",
    "        ax.plot(lambda_f, r_arr, label=name + \". regularised\")\n",
    "    \n",
    "    ax.legend()\n",
    "    ax.grid()\n",
    "    \n",
    "plt.show()"
   ]
  },
  {
   "cell_type": "code",
   "execution_count": null,
   "metadata": {
    "scrolled": true
   },
   "outputs": [],
   "source": []
  }
 ],
 "metadata": {
  "kernelspec": {
   "display_name": "Python 3 (ipykernel)",
   "language": "python",
   "name": "python3"
  },
  "language_info": {
   "codemirror_mode": {
    "name": "ipython",
    "version": 3
   },
   "file_extension": ".py",
   "mimetype": "text/x-python",
   "name": "python",
   "nbconvert_exporter": "python",
   "pygments_lexer": "ipython3",
   "version": "3.10.9"
  }
 },
 "nbformat": 4,
 "nbformat_minor": 4
}
